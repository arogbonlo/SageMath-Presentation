{
 "cells": [
  {
   "cell_type": "code",
   "execution_count": 3,
   "metadata": {
    "collapsed": false,
    "deletable": true,
    "editable": true
   },
   "outputs": [
    {
     "data": {
      "text/html": [
       "<img src=\"http://www.sagemath.org/pix/viral-posters/sage-viral-marketing-01.png\"/>"
      ],
      "text/plain": [
       "<IPython.core.display.Image object>"
      ]
     },
     "metadata": {},
     "output_type": "display_data"
    }
   ],
   "source": [
    "from IPython.display import display, Image, SVG, Math\n",
    "#i = Image(filename=\"/home/seyi/Documents/klgRepo/mathve/sage_luv_jupyter/sage-viral-marketing.png\")\n",
    "i = Image(url=\"http://www.sagemath.org/pix/viral-posters/sage-viral-marketing-01.png\")\n",
    "display(i)"
   ]
  },
  {
   "cell_type": "markdown",
   "metadata": {
    "deletable": true,
    "editable": true
   },
   "source": [
    "# SYMBOLIC COMPUTATIONS"
   ]
  },
  {
   "cell_type": "code",
   "execution_count": 4,
   "metadata": {
    "collapsed": false,
    "deletable": true,
    "editable": true
   },
   "outputs": [
    {
     "data": {
      "text/latex": [
       "$$\n",
       "pol := x^4 + 8x^3 + 12x^2 + (2\\sqrt(30)-16)x + (4\\sqrt(30) - 28 ) = 0\n",
       "$$"
      ],
      "text/plain": [
       "<IPython.core.display.Latex object>"
      ]
     },
     "metadata": {},
     "output_type": "display_data"
    }
   ],
   "source": [
    "%%latex\n",
    "$$\n",
    "pol := x^4 + 8x^3 + 12x^2 + (2\\sqrt(30)-16)x + (4\\sqrt(30) - 28 ) = 0\n",
    "$$"
   ]
  },
  {
   "cell_type": "code",
   "execution_count": 5,
   "metadata": {
    "collapsed": false,
    "deletable": true,
    "editable": true
   },
   "outputs": [
    {
     "data": {
      "text/html": [
       "<html><script type=\"math/tex; mode=display\">\\newcommand{\\Bold}[1]{\\mathbf{#1}}x^{4} + 8 \\, x^{3} + 12 \\, x^{2} + 2 \\, x {\\left(\\sqrt{30} - 8\\right)} + 4 \\, \\sqrt{30} - 28 = 0</script></html>"
      ],
      "text/plain": [
       "x^4 + 8*x^3 + 12*x^2 + 2*x*(sqrt(30) - 8) + 4*sqrt(30) - 28 == 0"
      ]
     },
     "metadata": {},
     "output_type": "display_data"
    }
   ],
   "source": [
    "var('x')\n",
    "pol = x^4 + 8*x^3 + 12*x^2 + (2*sqrt(30)-16)*x + (4*sqrt(30) - 28 ) == 0\n",
    "show(pol)"
   ]
  },
  {
   "cell_type": "code",
   "execution_count": 6,
   "metadata": {
    "collapsed": false,
    "deletable": true,
    "editable": true
   },
   "outputs": [
    {
     "data": {
      "image/png": "[encoded data removed]",
      "text/plain": [
       "Graphics object consisting of 1 graphics primitive"
      ]
     },
     "execution_count": 6,
     "metadata": {},
     "output_type": "execute_result"
    }
   ],
   "source": [
    "plot(pol, -3, 3)"
   ]
  },
  {
   "cell_type": "code",
   "execution_count": 5,
   "metadata": {
    "collapsed": false,
    "deletable": true,
    "editable": true
   },
   "outputs": [
    {
     "data": {
      "text/html": [
       "<html><script type=\"math/tex; mode=display\">\\newcommand{\\Bold}[1]{\\mathbf{#1}}\\left[x = -\\frac{1}{2} \\, \\sqrt{6} - \\frac{1}{2} \\, \\sqrt{\\frac{2}{3} \\, \\sqrt{30} \\sqrt{6} + 18} - 2, x = -\\frac{1}{2} \\, \\sqrt{6} + \\frac{1}{2} \\, \\sqrt{\\frac{2}{3} \\, \\sqrt{30} \\sqrt{6} + 18} - 2, x = \\frac{1}{2} \\, \\sqrt{6} - \\frac{1}{2} \\, \\sqrt{-\\frac{2}{3} \\, \\sqrt{30} \\sqrt{6} + 18} - 2, x = \\frac{1}{2} \\, \\sqrt{6} + \\frac{1}{2} \\, \\sqrt{-\\frac{2}{3} \\, \\sqrt{30} \\sqrt{6} + 18} - 2\\right]</script></html>"
      ],
      "text/plain": [
       "[x == -1/2*sqrt(6) - 1/2*sqrt(2/3*sqrt(30)*sqrt(6) + 18) - 2, x == -1/2*sqrt(6) + 1/2*sqrt(2/3*sqrt(30)*sqrt(6) + 18) - 2, x == 1/2*sqrt(6) - 1/2*sqrt(-2/3*sqrt(30)*sqrt(6) + 18) - 2, x == 1/2*sqrt(6) + 1/2*sqrt(-2/3*sqrt(30)*sqrt(6) + 18) - 2]"
      ]
     },
     "metadata": {},
     "output_type": "display_data"
    }
   ],
   "source": [
    "sol = pol.solve(x)\n",
    "show(sol)"
   ]
  },
  {
   "cell_type": "code",
   "execution_count": 6,
   "metadata": {
    "collapsed": false,
    "deletable": true,
    "editable": true
   },
   "outputs": [
    {
     "data": {
      "text/html": [
       "<html><script type=\"math/tex; mode=display\">\\newcommand{\\Bold}[1]{\\mathbf{#1}}x = -\\frac{1}{2} \\, \\sqrt{6} - \\frac{1}{2} \\, \\sqrt{\\frac{2}{3} \\, \\sqrt{30} \\sqrt{6} + 18} - 2</script></html>"
      ],
      "text/plain": [
       "x == -1/2*sqrt(6) - 1/2*sqrt(2/3*sqrt(30)*sqrt(6) + 18) - 2"
      ]
     },
     "metadata": {},
     "output_type": "display_data"
    },
    {
     "data": {
      "text/html": [
       "<html><script type=\"math/tex; mode=display\">\\newcommand{\\Bold}[1]{\\mathbf{#1}}x = -\\frac{1}{2} \\, \\sqrt{6} + \\frac{1}{2} \\, \\sqrt{\\frac{2}{3} \\, \\sqrt{30} \\sqrt{6} + 18} - 2</script></html>"
      ],
      "text/plain": [
       "x == -1/2*sqrt(6) + 1/2*sqrt(2/3*sqrt(30)*sqrt(6) + 18) - 2"
      ]
     },
     "metadata": {},
     "output_type": "display_data"
    },
    {
     "data": {
      "text/html": [
       "<html><script type=\"math/tex; mode=display\">\\newcommand{\\Bold}[1]{\\mathbf{#1}}x = \\frac{1}{2} \\, \\sqrt{6} - \\frac{1}{2} \\, \\sqrt{-\\frac{2}{3} \\, \\sqrt{30} \\sqrt{6} + 18} - 2</script></html>"
      ],
      "text/plain": [
       "x == 1/2*sqrt(6) - 1/2*sqrt(-2/3*sqrt(30)*sqrt(6) + 18) - 2"
      ]
     },
     "metadata": {},
     "output_type": "display_data"
    },
    {
     "data": {
      "text/html": [
       "<html><script type=\"math/tex; mode=display\">\\newcommand{\\Bold}[1]{\\mathbf{#1}}x = \\frac{1}{2} \\, \\sqrt{6} + \\frac{1}{2} \\, \\sqrt{-\\frac{2}{3} \\, \\sqrt{30} \\sqrt{6} + 18} - 2</script></html>"
      ],
      "text/plain": [
       "x == 1/2*sqrt(6) + 1/2*sqrt(-2/3*sqrt(30)*sqrt(6) + 18) - 2"
      ]
     },
     "metadata": {},
     "output_type": "display_data"
    }
   ],
   "source": [
    "for i in sol:\n",
    "    show(i)"
   ]
  },
  {
   "cell_type": "markdown",
   "metadata": {
    "deletable": true,
    "editable": true
   },
   "source": [
    "**Consider the following snippet from a signal flow grap computation:**"
   ]
  },
  {
   "cell_type": "code",
   "execution_count": 7,
   "metadata": {
    "collapsed": false,
    "deletable": true,
    "editable": true
   },
   "outputs": [
    {
     "data": {
      "text/latex": [
       "$$\n",
       "\\begin{align*}\n",
       "P &= \\frac{k_{1} {\\left(s + 20\\right)}}{s^{3}}\\\\\n",
       "L1 &=  -\\frac{k_{1} k_{2} {\\left(s + 20\\right)}}{s^{2}} \\\\ \n",
       "L2 &=  -\\frac{k_{1} k_{3} {\\left(s + 20\\right)} {\\left(s + 4\\right)}}{{\\left(k_{5} + s\\right)} s^{3}}\\\\\n",
       "\\Delta &=  \\frac{k_{1} k_{2} {\\left(s + 20\\right)}}{s^{2}} + \\frac{k_{1} k_{3} {\\left(s + 20\\right)} {\\left(s + 4\\right)}}{{\\left(k_{5} + s\\right)} s^{3}} + 1\\\\\n",
       "T &= \\frac{P}{\\Delta}\n",
       "\\end{align*}\n",
       "$$"
      ],
      "text/plain": [
       "<IPython.core.display.Latex object>"
      ]
     },
     "metadata": {},
     "output_type": "display_data"
    }
   ],
   "source": [
    "%%latex\n",
    "$$\n",
    "\\begin{align*}\n",
    "P &= \\frac{k_{1} {\\left(s + 20\\right)}}{s^{3}}\\\\\n",
    "L1 &=  -\\frac{k_{1} k_{2} {\\left(s + 20\\right)}}{s^{2}} \\\\ \n",
    "L2 &=  -\\frac{k_{1} k_{3} {\\left(s + 20\\right)} {\\left(s + 4\\right)}}{{\\left(k_{5} + s\\right)} s^{3}}\\\\\n",
    "\\Delta &=  \\frac{k_{1} k_{2} {\\left(s + 20\\right)}}{s^{2}} + \\frac{k_{1} k_{3} {\\left(s + 20\\right)} {\\left(s + 4\\right)}}{{\\left(k_{5} + s\\right)} s^{3}} + 1\\\\\n",
    "T &= \\frac{P}{\\Delta}\n",
    "\\end{align*}\n",
    "$$\n"
   ]
  },
  {
   "cell_type": "code",
   "execution_count": 8,
   "metadata": {
    "collapsed": false,
    "deletable": true,
    "editable": true
   },
   "outputs": [
    {
     "name": "stdout",
     "output_type": "stream",
     "text": [
      "T = \n"
     ]
    },
    {
     "data": {
      "text/html": [
       "<html><script type=\"math/tex; mode=display\">\\newcommand{\\Bold}[1]{\\mathbf{#1}}\\frac{k_{1} {\\left(s + 20\\right)}}{{\\left(\\frac{k_{1} k_{2} {\\left(s + 20\\right)}}{s^{2}} + \\frac{k_{1} k_{3} {\\left(s + 20\\right)} {\\left(s + 4\\right)}}{{\\left(k_{5} + s\\right)} s^{3}} + 1\\right)} s^{3}}</script></html>"
      ],
      "text/plain": [
       "k1*(s + 20)/((k1*k2*(s + 20)/s^2 + k1*k3*(s + 20)*(s + 4)/((k5 + s)*s^3) + 1)*s^3)"
      ]
     },
     "metadata": {},
     "output_type": "display_data"
    }
   ],
   "source": [
    "var(\"s, k1, k2, k3, k4, k5\")\n",
    "P = k1*(s+20)/(s^3)\n",
    "L1 = -k1*k2*(s+20)/(s^2)\n",
    "L2 = -P*k3*(s+4)/(s+k5)\n",
    "delta = 1-(L1 + L2)\n",
    "\n",
    "T = P/delta\n",
    "\"\"\"\n",
    "print \"P =\"\n",
    "show(P)\n",
    "\n",
    "print \"L1 = \"\n",
    "show(L1)\n",
    "\n",
    "print \"L2 = \"\n",
    "show(L2)\n",
    "\n",
    "show(var(\"Delta\")); print\"= \"\n",
    "show(delta)\n",
    "\"\"\"\n",
    "print \"T = \"\n",
    "show(T)"
   ]
  },
  {
   "cell_type": "markdown",
   "metadata": {
    "deletable": true,
    "editable": true
   },
   "source": [
    "**We have T,  but the denominator is too complex. *We can do better:* **\n",
    "\n",
    "**Enter Full Simplify**"
   ]
  },
  {
   "cell_type": "code",
   "execution_count": 9,
   "metadata": {
    "collapsed": false,
    "deletable": true,
    "editable": true
   },
   "outputs": [
    {
     "data": {
      "text/html": [
       "<html><script type=\"math/tex; mode=display\">\\newcommand{\\Bold}[1]{\\mathbf{#1}}\\frac{k_{1} s^{2} + 20 \\, k_{1} k_{5} + {\\left(k_{1} k_{5} + 20 \\, k_{1}\\right)} s}{{\\left(k_{1} k_{2} + k_{5}\\right)} s^{3} + s^{4} + {\\left(k_{1} k_{2} k_{5} + 20 \\, k_{1} k_{2} + k_{1} k_{3}\\right)} s^{2} + 80 \\, k_{1} k_{3} + 4 \\, {\\left(5 \\, k_{1} k_{2} k_{5} + 6 \\, k_{1} k_{3}\\right)} s}</script></html>"
      ],
      "text/plain": [
       "(k1*s^2 + 20*k1*k5 + (k1*k5 + 20*k1)*s)/((k1*k2 + k5)*s^3 + s^4 + (k1*k2*k5 + 20*k1*k2 + k1*k3)*s^2 + 80*k1*k3 + 4*(5*k1*k2*k5 + 6*k1*k3)*s)"
      ]
     },
     "metadata": {},
     "output_type": "display_data"
    }
   ],
   "source": [
    "show(T.simplify_full())"
   ]
  },
  {
   "cell_type": "markdown",
   "metadata": {
    "deletable": true,
    "editable": true
   },
   "source": [
    "# Calculus (With a sprinkling of Trig while we're at it)"
   ]
  },
  {
   "cell_type": "markdown",
   "metadata": {
    "deletable": true,
    "editable": true
   },
   "source": [
    "**Introducing inline Math Display...**"
   ]
  },
  {
   "cell_type": "code",
   "execution_count": 10,
   "metadata": {
    "collapsed": false,
    "deletable": true,
    "editable": true
   },
   "outputs": [
    {
     "data": {
      "text/latex": [
       "$$\\lim_{\\theta \\rightarrow 0}  \\frac{sin(\\theta)}{\\theta}$$"
      ],
      "text/plain": [
       "<IPython.core.display.Math object>"
      ]
     },
     "execution_count": 10,
     "metadata": {},
     "output_type": "execute_result"
    }
   ],
   "source": [
    "Math(r\"\\lim_{\\theta \\rightarrow 0}  \\frac{sin(\\theta)}{\\theta}\")"
   ]
  },
  {
   "cell_type": "code",
   "execution_count": 11,
   "metadata": {
    "collapsed": false,
    "deletable": true,
    "editable": true
   },
   "outputs": [
    {
     "data": {
      "text/plain": [
       "1"
      ]
     },
     "execution_count": 11,
     "metadata": {},
     "output_type": "execute_result"
    }
   ],
   "source": [
    "var(\"x\")\n",
    "limit(sin(x)/x, x=0)"
   ]
  },
  {
   "cell_type": "markdown",
   "metadata": {
    "deletable": true,
    "editable": true
   },
   "source": [
    "**Function Definition, differentiation, integration**"
   ]
  },
  {
   "cell_type": "code",
   "execution_count": 12,
   "metadata": {
    "collapsed": false,
    "deletable": true,
    "editable": true
   },
   "outputs": [
    {
     "data": {
      "text/latex": [
       "Define some abstract function of x: $\\quad f(x)$ then compute $\\quad f'(x)$ and $\\int f'(x)\\, \\mathrm{d}x)$"
      ],
      "text/plain": [
       "<IPython.core.display.Latex object>"
      ]
     },
     "metadata": {},
     "output_type": "display_data"
    }
   ],
   "source": [
    "%%latex\n",
    "Define some abstract function of x: $\\quad f(x)$ then compute $\\quad f'(x)$ and $\\int f'(x)\\, \\mathrm{d}x)$"
   ]
  },
  {
   "cell_type": "code",
   "execution_count": 13,
   "metadata": {
    "collapsed": false,
    "deletable": true,
    "editable": true
   },
   "outputs": [
    {
     "data": {
      "text/html": [
       "<html><script type=\"math/tex; mode=display\">\\newcommand{\\Bold}[1]{\\mathbf{#1}}f\\left(x\\right)</script></html>"
      ],
      "text/plain": [
       "f(x)"
      ]
     },
     "metadata": {},
     "output_type": "display_data"
    },
    {
     "data": {
      "text/html": [
       "<html><script type=\"math/tex; mode=display\">\\newcommand{\\Bold}[1]{\\mathbf{#1}}\\frac{\\partial}{\\partial x}f\\left(x\\right)</script></html>"
      ],
      "text/plain": [
       "diff(f(x), x)"
      ]
     },
     "metadata": {},
     "output_type": "display_data"
    }
   ],
   "source": [
    "f = function(\"f\")(x)\n",
    "g = diff(f, x)\n",
    "show(f)\n",
    "show(g)"
   ]
  },
  {
   "cell_type": "code",
   "execution_count": 14,
   "metadata": {
    "collapsed": false,
    "deletable": true,
    "editable": true
   },
   "outputs": [
    {
     "data": {
      "text/html": [
       "<html><script type=\"math/tex; mode=display\">\\newcommand{\\Bold}[1]{\\mathbf{#1}}f\\left(x\\right)</script></html>"
      ],
      "text/plain": [
       "f(x)"
      ]
     },
     "metadata": {},
     "output_type": "display_data"
    }
   ],
   "source": [
    "show(integral((g), x))"
   ]
  },
  {
   "cell_type": "code",
   "execution_count": 15,
   "metadata": {
    "collapsed": false,
    "deletable": true,
    "editable": true
   },
   "outputs": [
    {
     "name": "stderr",
     "output_type": "stream",
     "text": [
      "/home/seyi/sage/7.6/sage-7.6/local/lib/python2.7/site-packages/IPython/core/interactiveshell.py:2881: DeprecationWarning: Substitution using function-call syntax and unnamed arguments is deprecated and will be removed from a future release of Sage; you can use named arguments instead, like EXPR(x=..., y=...)\n",
      "See http://trac.sagemath.org/5930 for details.\n",
      "  exec(code_obj, self.user_global_ns, self.user_ns)\n"
     ]
    },
    {
     "data": {
      "text/html": [
       "<html><script type=\"math/tex; mode=display\">\\newcommand{\\Bold}[1]{\\mathbf{#1}}f\\left(x\\right)</script></html>"
      ],
      "text/plain": [
       "f(x)"
      ]
     },
     "metadata": {},
     "output_type": "display_data"
    }
   ],
   "source": [
    "show(integral(diff(f(x), x), x))"
   ]
  },
  {
   "cell_type": "code",
   "execution_count": 13,
   "metadata": {
    "collapsed": false,
    "deletable": true,
    "editable": true
   },
   "outputs": [
    {
     "data": {
      "text/latex": [
       "$$\\int_{-\\infty}^\\infty \\mathrm{e}^{-x^2} \\mathrm{d}x$$"
      ],
      "text/plain": [
       "<IPython.core.display.Math object>"
      ]
     },
     "execution_count": 13,
     "metadata": {},
     "output_type": "execute_result"
    }
   ],
   "source": [
    "Math(r\"\\int_{-\\infty}^\\infty \\mathrm{e}^{-x^2} \\mathrm{d}x\")"
   ]
  },
  {
   "cell_type": "code",
   "execution_count": 17,
   "metadata": {
    "collapsed": false,
    "deletable": true,
    "editable": true
   },
   "outputs": [
    {
     "data": {
      "text/html": [
       "<html><script type=\"math/tex; mode=display\">\\newcommand{\\Bold}[1]{\\mathbf{#1}}\\sqrt{\\pi}</script></html>"
      ],
      "text/plain": [
       "sqrt(pi)"
      ]
     },
     "metadata": {},
     "output_type": "display_data"
    }
   ],
   "source": [
    "show(integrate(exp(-x^2), x, -infinity, infinity))"
   ]
  },
  {
   "cell_type": "markdown",
   "metadata": {
    "deletable": true,
    "editable": true
   },
   "source": [
    "*Differential Equations*"
   ]
  },
  {
   "cell_type": "code",
   "execution_count": 18,
   "metadata": {
    "collapsed": false,
    "deletable": true,
    "editable": true
   },
   "outputs": [
    {
     "data": {
      "text/html": [
       "<html><script type=\"math/tex; mode=display\">\\newcommand{\\Bold}[1]{\\mathbf{#1}}4 \\, y\\left(x\\right) + 5 \\, \\frac{\\partial}{\\partial x}y\\left(x\\right) + \\frac{\\partial^{2}}{(\\partial x)^{2}}y\\left(x\\right) = 100 \\, e^{\\left(4 \\, x\\right)}</script></html>"
      ],
      "text/plain": [
       "4*y(x) + 5*diff(y(x), x) + diff(y(x), x, x) == 100*e^(4*x)"
      ]
     },
     "metadata": {},
     "output_type": "display_data"
    },
    {
     "data": {
      "text/html": [
       "<html><script type=\"math/tex; mode=display\">\\newcommand{\\Bold}[1]{\\mathbf{#1}}K_{1} e^{\\left(-x\\right)} + K_{2} e^{\\left(-4 \\, x\\right)} + \\frac{5}{2} \\, e^{\\left(4 \\, x\\right)}</script></html>"
      ],
      "text/plain": [
       "_K1*e^(-x) + _K2*e^(-4*x) + 5/2*e^(4*x)"
      ]
     },
     "metadata": {},
     "output_type": "display_data"
    }
   ],
   "source": [
    "y = function(\"y\")(x)\n",
    "de = diff(diff(y, x)) + 5*diff(y, x) + 4*y == 100*exp(4*x)\n",
    "show (de)\n",
    "sol = desolve(de, [y, x])\n",
    "show(sol)"
   ]
  },
  {
   "cell_type": "code",
   "execution_count": 19,
   "metadata": {
    "collapsed": false,
    "deletable": true,
    "editable": true
   },
   "outputs": [
    {
     "data": {
      "text/plain": [
       "(s, t)"
      ]
     },
     "execution_count": 19,
     "metadata": {},
     "output_type": "execute_result"
    }
   ],
   "source": [
    "var(\"s, t\")"
   ]
  },
  {
   "cell_type": "code",
   "execution_count": 20,
   "metadata": {
    "collapsed": false,
    "deletable": true,
    "editable": true
   },
   "outputs": [
    {
     "data": {
      "text/html": [
       "<html><script type=\"math/tex; mode=display\">\\newcommand{\\Bold}[1]{\\mathbf{#1}}\\cos\\left(t\\right) - e^{\\left(-t\\right)}</script></html>"
      ],
      "text/plain": [
       "cos(t) - e^(-t)"
      ]
     },
     "metadata": {},
     "output_type": "display_data"
    },
    {
     "data": {
      "text/html": [
       "<html><script type=\"math/tex; mode=display\">\\newcommand{\\Bold}[1]{\\mathbf{#1}}\\frac{s}{s^{2} + 1} - \\frac{1}{s + 1}</script></html>"
      ],
      "text/plain": [
       "s/(s^2 + 1) - 1/(s + 1)"
      ]
     },
     "metadata": {},
     "output_type": "display_data"
    }
   ],
   "source": [
    "f = diff(sin(t), t) - exp(-t)\n",
    "lap_f = f.laplace(t, s)\n",
    "show(f)\n",
    "show(lap_f)"
   ]
  },
  {
   "cell_type": "markdown",
   "metadata": {
    "deletable": true,
    "editable": true
   },
   "source": [
    "**Fourier Series and Some Plotting**"
   ]
  },
  {
   "cell_type": "code",
   "execution_count": 21,
   "metadata": {
    "collapsed": false,
    "deletable": true,
    "editable": true
   },
   "outputs": [
    {
     "data": {
      "image/png": "[encoded data removed]",
      "text/plain": [
       "<IPython.core.display.Image object>"
      ]
     },
     "metadata": {},
     "output_type": "display_data"
    }
   ],
   "source": [
    "i = Image(filename=\"/home/seyi/Documents/klgRepo/mathve/sage_luv_jupyter/fourrier_demo.png\")\n",
    "display(i)"
   ]
  },
  {
   "cell_type": "code",
   "execution_count": 14,
   "metadata": {
    "collapsed": true,
    "deletable": true,
    "editable": true
   },
   "outputs": [],
   "source": [
    "fx1 = piecewise([((-pi, 0), 0), ((0, pi), x)])"
   ]
  },
  {
   "cell_type": "code",
   "execution_count": 15,
   "metadata": {
    "collapsed": false,
    "deletable": true,
    "editable": true
   },
   "outputs": [],
   "source": [
    "#plot(fx1.fourier_series_partial_sum(100, pi), (-pi, pi))"
   ]
  },
  {
   "cell_type": "code",
   "execution_count": 16,
   "metadata": {
    "collapsed": false,
    "deletable": true,
    "editable": true
   },
   "outputs": [
    {
     "data": {
      "application/vnd.jupyter.widget-view+json": {
       "model_id": "a9b474a1cb6a46699b5e25b8e2fdad1b"
      }
     },
     "metadata": {},
     "output_type": "display_data"
    }
   ],
   "source": [
    "@interact\n",
    "def plot_fourrier_demo(n=slider(1, 100, 1, 10, \"Number of Terms\")):\n",
    "    show(plot(fx1.fourier_series_partial_sum(n, pi), (-pi, pi)))"
   ]
  },
  {
   "cell_type": "markdown",
   "metadata": {
    "deletable": true,
    "editable": true
   },
   "source": [
    "# Linear Algebra...\n",
    "**Matrices**"
   ]
  },
  {
   "cell_type": "code",
   "execution_count": 19,
   "metadata": {
    "collapsed": false,
    "deletable": true,
    "editable": true
   },
   "outputs": [
    {
     "data": {
      "text/html": [
       "<html><script type=\"math/tex; mode=display\">\\newcommand{\\Bold}[1]{\\mathbf{#1}}\\left(\\begin{array}{rr}\n",
       "a_{11} & a_{12} \\\\\n",
       "a_{21} & a_{22}\n",
       "\\end{array}\\right)</script></html>"
      ],
      "text/plain": [
       "[a11 a12]\n",
       "[a21 a22]"
      ]
     },
     "metadata": {},
     "output_type": "display_data"
    },
    {
     "data": {
      "text/html": [
       "<html><script type=\"math/tex; mode=display\">\\newcommand{\\Bold}[1]{\\mathbf{#1}}\\left[\\frac{1}{2} \\, a_{11} + \\frac{1}{2} \\, a_{22} - \\frac{1}{2} \\, \\sqrt{a_{11}^{2} + 4 \\, a_{12} a_{21} - 2 \\, a_{11} a_{22} + a_{22}^{2}}, \\frac{1}{2} \\, a_{11} + \\frac{1}{2} \\, a_{22} + \\frac{1}{2} \\, \\sqrt{a_{11}^{2} + 4 \\, a_{12} a_{21} - 2 \\, a_{11} a_{22} + a_{22}^{2}}\\right]</script></html>"
      ],
      "text/plain": [
       "[1/2*a11 + 1/2*a22 - 1/2*sqrt(a11^2 + 4*a12*a21 - 2*a11*a22 + a22^2),\n",
       " 1/2*a11 + 1/2*a22 + 1/2*sqrt(a11^2 + 4*a12*a21 - 2*a11*a22 + a22^2)]"
      ]
     },
     "metadata": {},
     "output_type": "display_data"
    },
    {
     "data": {
      "text/html": [
       "<html><script type=\"math/tex; mode=display\">\\newcommand{\\Bold}[1]{\\mathbf{#1}}\\frac{1}{2} \\, a_{11} + \\frac{1}{2} \\, a_{22} - \\frac{1}{2} \\, \\sqrt{a_{11}^{2} + 4 \\, a_{12} a_{21} - 2 \\, a_{11} a_{22} + a_{22}^{2}}</script></html>"
      ],
      "text/plain": [
       "1/2*a11 + 1/2*a22 - 1/2*sqrt(a11^2 + 4*a12*a21 - 2*a11*a22 + a22^2)"
      ]
     },
     "metadata": {},
     "output_type": "display_data"
    },
    {
     "data": {
      "text/html": [
       "<html><script type=\"math/tex; mode=display\">\\newcommand{\\Bold}[1]{\\mathbf{#1}}\\frac{1}{2} \\, a_{11} + \\frac{1}{2} \\, a_{22} + \\frac{1}{2} \\, \\sqrt{a_{11}^{2} + 4 \\, a_{12} a_{21} - 2 \\, a_{11} a_{22} + a_{22}^{2}}</script></html>"
      ],
      "text/plain": [
       "1/2*a11 + 1/2*a22 + 1/2*sqrt(a11^2 + 4*a12*a21 - 2*a11*a22 + a22^2)"
      ]
     },
     "metadata": {},
     "output_type": "display_data"
    },
    {
     "data": {
      "text/html": [
       "<html><script type=\"math/tex; mode=display\">\\newcommand{\\Bold}[1]{\\mathbf{#1}}z^{2} + \\left(-a_{11} - a_{22}\\right) z - a_{12} a_{21} + a_{11} a_{22}</script></html>"
      ],
      "text/plain": [
       "z^2 + (-a11 - a22)*z - a12*a21 + a11*a22"
      ]
     },
     "metadata": {},
     "output_type": "display_data"
    }
   ],
   "source": [
    "A = matrix(SR, 2, 2, var(\"a11, a12, a21, a22\"))\n",
    "show(A)\n",
    "show(A.eigenvalues())\n",
    "for i in A.eigenvalues():\n",
    "    show(i)\n",
    "show(charpoly(A, var=\"z\"))"
   ]
  },
  {
   "cell_type": "markdown",
   "metadata": {
    "deletable": true,
    "editable": true
   },
   "source": [
    "**We can talk to other Math Software as well. "
   ]
  },
  {
   "cell_type": "code",
   "execution_count": 20,
   "metadata": {
    "collapsed": false,
    "deletable": true,
    "editable": true
   },
   "outputs": [
    {
     "data": {
      "text/html": [
       "<html><script type=\"math/tex; mode=display\">\\newcommand{\\Bold}[1]{\\mathbf{#1}}\\begin{array}{l}\n",
       "\\phantom{\\verb!x!}\\\\\n",
       "\\verb|ans|\\phantom{\\verb!x!}\\verb|=|\\\\\n",
       "\\phantom{\\verb!x!}\\\\\n",
       "\\phantom{\\verb!xxx!}\\verb|-4.0000|\\\\\n",
       "\\phantom{\\verb!xxxx!}\\verb|4.5000|\\\\\n",
       "\\phantom{\\verb!x!}\n",
       "\\end{array}</script></html>"
      ],
      "text/plain": [
       "'\\nans =\\n\\n   -4.0000\\n    4.5000\\n'"
      ]
     },
     "metadata": {},
     "output_type": "display_data"
    }
   ],
   "source": [
    "show(matlab.eval(\"[1, 2; 3, 4]\\[5; 6]\"))"
   ]
  },
  {
   "cell_type": "markdown",
   "metadata": {
    "deletable": true,
    "editable": true
   },
   "source": [
    "# Something a bit more advanced"
   ]
  },
  {
   "cell_type": "code",
   "execution_count": 22,
   "metadata": {
    "collapsed": false,
    "deletable": true,
    "editable": true
   },
   "outputs": [
    {
     "data": {
      "image/png": "[encoded data removed]",
      "text/plain": [
       "A 2-dimensional polyhedron in QQ^2 defined as the convex hull of 4 vertices"
      ]
     },
     "execution_count": 22,
     "metadata": {},
     "output_type": "execute_result"
    }
   ],
   "source": [
    "p = MixedIntegerLinearProgram(solver='GLPK')\n",
    "p.add_constraint(0 <= 2*p['x'] + p['y'] <= 1)\n",
    "p.add_constraint(0 <= 3*p['y'] + p['x'] <= 2)\n",
    "P = p.polyhedron(); P"
   ]
  },
  {
   "cell_type": "code",
   "execution_count": 24,
   "metadata": {
    "collapsed": false,
    "deletable": true,
    "editable": true
   },
   "outputs": [
    {
     "name": "stdout",
     "output_type": "stream",
     "text": [
      "Maximization:\n",
      "  \n",
      "\n",
      "Constraints:\n",
      "  -2.0 x_0 - x_1 <= 0.0\n",
      "  2.0 x_0 + x_1 <= 1.0\n",
      "  - x_0 - 3.0 x_1 <= 0.0\n",
      "  x_0 + 3.0 x_1 <= 2.0\n",
      "Variables:\n",
      "  x_0 is a continuous variable (min=-oo, max=+oo)\n",
      "  x_1 is a continuous variable (min=-oo, max=+oo)\n"
     ]
    }
   ],
   "source": [
    "p.show()"
   ]
  },
  {
   "cell_type": "code",
   "execution_count": 29,
   "metadata": {
    "collapsed": false,
    "deletable": true,
    "editable": true
   },
   "outputs": [
    {
     "data": {
      "text/plain": [
       "0.0"
      ]
     },
     "execution_count": 29,
     "metadata": {},
     "output_type": "execute_result"
    }
   ],
   "source": [
    "p.solve()"
   ]
  },
  {
   "cell_type": "code",
   "execution_count": 25,
   "metadata": {
    "collapsed": false,
    "deletable": true,
    "editable": true
   },
   "outputs": [
    {
     "data": {
      "text/html": [
       "\n",
       "<iframe srcdoc=\"\n",
       "<html>\n",
       "<head>\n",
       "  <style>\n",
       "    * {\n",
       "      margin: 0;\n",
       "      padding: 0;\n",
       "      overflow: hidden;\n",
       "    }\n",
       "    body, html {      \n",
       "      height: 100%;\n",
       "      width: 100%;\n",
       "    }\n",
       "  </style>\n",
       "  <script type=&quot;text/javascript&quot; src=&quot;/nbextensions/jsmol/JSmol.min.js&quot;></script>\n",
       "</head>\n",
       "<body>\n",
       "  <script type=&quot;text/javascript&quot;>\n",
       "    var script = [\n",
       "  'data &quot;model list&quot;',\n",
       "  '10',\n",
       "  'empty',\n",
       "  'Xx -3.0 -4.0 -3.0',\n",
       "  'Xx 0.0 -4.0 -3.0',\n",
       "  'Xx 3.0 -4.0 -3.0',\n",
       "  'Xx 4.0 -3.0 -3.0',\n",
       "  'Xx 4.0 0.0 -3.0',\n",
       "  'Xx 4.0 3.0 -3.0',\n",
       "  'Xx -4.0 -3.0 -3.0',\n",
       "  'Xx -4.0 -3.0 0.0',\n",
       "  'Xx -4.0 -3.0 3.0',\n",
       "  'Xx 5.5 5.5 5.5',\n",
       "  'end &quot;model list&quot;; show data',\n",
       "  'select *',\n",
       "  'wireframe off; spacefill off',\n",
       "  'set labelOffset 0 0',\n",
       "  'background [255,255,255]',\n",
       "  'spin OFF',\n",
       "  'moveto 0 -764 -346 -545 76.39',\n",
       "  'centerAt absolute {0 0 0}',\n",
       "  'zoom 100',\n",
       "  'frank OFF',\n",
       "  'set perspectivedepth ON',\n",
       "  'draw point_1 DIAMETER 5 {2.53846153846 -0.230769230769 -3.0}',\n",
       "  'color $point_1  [0,0,255]',\n",
       "  'draw point_2 DIAMETER 5 {3.0 -2.53846153846 0.230769230769}',\n",
       "  'color $point_2  [0,0,255]',\n",
       "  'draw point_3 DIAMETER 5 {0.692307692308 0.692307692308 0.692307692308}',\n",
       "  'color $point_3  [0,0,255]',\n",
       "  'draw point_4 DIAMETER 5 {0.230769230769 3.0 -2.53846153846}',\n",
       "  'color $point_4  [0,0,255]',\n",
       "  'draw point_5 DIAMETER 5 {-3.0 2.53846153846 -0.230769230769}',\n",
       "  'color $point_5  [0,0,255]',\n",
       "  'draw point_6 DIAMETER 5 {-0.692307692308 -0.692307692308 -0.692307692308}',\n",
       "  'color $point_6  [0,0,255]',\n",
       "  'draw point_7 DIAMETER 5 {-0.230769230769 -3.0 2.53846153846}',\n",
       "  'color $point_7  [0,0,255]',\n",
       "  'draw point_8 DIAMETER 5 {-2.53846153846 0.230769230769 3.0}',\n",
       "  'color $point_8  [0,0,255]',\n",
       "  'draw line_9 diameter 1 curve {2.53846153846 -0.230769230769 -3.0}  {3.0 -2.53846153846 0.230769230769} ',\n",
       "  'color $line_9  [0,0,255]',\n",
       "  'draw line_10 diameter 1 curve {2.53846153846 -0.230769230769 -3.0}  {0.230769230769 3.0 -2.53846153846} ',\n",
       "  'color $line_10  [0,0,255]',\n",
       "  'draw line_11 diameter 1 curve {2.53846153846 -0.230769230769 -3.0}  {-0.692307692308 -0.692307692308 -0.692307692308} ',\n",
       "  'color $line_11  [0,0,255]',\n",
       "  'draw line_12 diameter 1 curve {3.0 -2.53846153846 0.230769230769}  {0.692307692308 0.692307692308 0.692307692308} ',\n",
       "  'color $line_12  [0,0,255]',\n",
       "  'draw line_13 diameter 1 curve {3.0 -2.53846153846 0.230769230769}  {-0.230769230769 -3.0 2.53846153846} ',\n",
       "  'color $line_13  [0,0,255]',\n",
       "  'draw line_14 diameter 1 curve {0.692307692308 0.692307692308 0.692307692308}  {0.230769230769 3.0 -2.53846153846} ',\n",
       "  'color $line_14  [0,0,255]',\n",
       "  'draw line_15 diameter 1 curve {0.692307692308 0.692307692308 0.692307692308}  {-2.53846153846 0.230769230769 3.0} ',\n",
       "  'color $line_15  [0,0,255]',\n",
       "  'draw line_16 diameter 1 curve {0.230769230769 3.0 -2.53846153846}  {-3.0 2.53846153846 -0.230769230769} ',\n",
       "  'color $line_16  [0,0,255]',\n",
       "  'draw line_17 diameter 1 curve {-3.0 2.53846153846 -0.230769230769}  {-0.692307692308 -0.692307692308 -0.692307692308} ',\n",
       "  'color $line_17  [0,0,255]',\n",
       "  'draw line_18 diameter 1 curve {-3.0 2.53846153846 -0.230769230769}  {-2.53846153846 0.230769230769 3.0} ',\n",
       "  'color $line_18  [0,0,255]',\n",
       "  'draw line_19 diameter 1 curve {-0.692307692308 -0.692307692308 -0.692307692308}  {-0.230769230769 -3.0 2.53846153846} ',\n",
       "  'color $line_19  [0,0,255]',\n",
       "  'draw line_20 diameter 1 curve {-0.230769230769 -3.0 2.53846153846}  {-2.53846153846 0.230769230769 3.0} ',\n",
       "  'color $line_20  [0,0,255]',\n",
       "  'pmesh obj_21 inline &quot;24',\n",
       "  '2.53846 -0.230769 -3',\n",
       "  '3 -2.53846 0.230769',\n",
       "  '0.692308 0.692308 0.692308',\n",
       "  '0.230769 3 -2.53846',\n",
       "  '-3 2.53846 -0.230769',\n",
       "  '-0.692308 -0.692308 -0.692308',\n",
       "  '-0.230769 -3 2.53846',\n",
       "  '-2.53846 0.230769 3',\n",
       "  '2.53846 -0.230769 -3',\n",
       "  '3 -2.53846 0.230769',\n",
       "  '0.692308 0.692308 0.692308',\n",
       "  '0.230769 3 -2.53846',\n",
       "  '-3 2.53846 -0.230769',\n",
       "  '-0.692308 -0.692308 -0.692308',\n",
       "  '-0.230769 -3 2.53846',\n",
       "  '-2.53846 0.230769 3',\n",
       "  '2.53846 -0.230769 -3',\n",
       "  '3 -2.53846 0.230769',\n",
       "  '0.692308 0.692308 0.692308',\n",
       "  '0.230769 3 -2.53846',\n",
       "  '-3 2.53846 -0.230769',\n",
       "  '-0.692308 -0.692308 -0.692308',\n",
       "  '-0.230769 -3 2.53846',\n",
       "  '-2.53846 0.230769 3',\n",
       "  '6',\n",
       "  '5',\n",
       "  '2',\n",
       "  '1',\n",
       "  '0',\n",
       "  '3',\n",
       "  '2',\n",
       "  '5',\n",
       "  '6',\n",
       "  '9',\n",
       "  '10',\n",
       "  '7',\n",
       "  '6',\n",
       "  '5',\n",
       "  '15',\n",
       "  '18',\n",
       "  '11',\n",
       "  '4',\n",
       "  '15',\n",
       "  '5',\n",
       "  '23',\n",
       "  '12',\n",
       "  '5',\n",
       "  '14',\n",
       "  '23',\n",
       "  '5',\n",
       "  '13',\n",
       "  '8',\n",
       "  '17',\n",
       "  '22',\n",
       "  '13',\n",
       "  '5',\n",
       "  '20',\n",
       "  '19',\n",
       "  '16',\n",
       "  '21',\n",
       "  '20&quot;',\n",
       "  'color pmesh  [0,128,0]',\n",
       "  'draw line_22 diameter 1 curve {-3.0 -3.0 -3.0}  {-3.0 3.0 -3.0} ',\n",
       "  'color $line_22 translucent 0.5 [0,0,0]',\n",
       "  'draw line_23 diameter 1 curve {-3.0 3.0 -3.0}  {3.0 3.0 -3.0} ',\n",
       "  'color $line_23 translucent 0.5 [0,0,0]',\n",
       "  'draw line_24 diameter 1 curve {3.0 3.0 -3.0}  {3.0 -3.0 -3.0} ',\n",
       "  'color $line_24 translucent 0.5 [0,0,0]',\n",
       "  'draw line_25 diameter 1 curve {3.0 -3.0 -3.0}  {-3.0 -3.0 -3.0} ',\n",
       "  'color $line_25 translucent 0.5 [0,0,0]',\n",
       "  'draw line_26 diameter 1 curve {-3.0 -3.0 -3.0}  {-3.0 -3.0 3.0} ',\n",
       "  'color $line_26 translucent 0.5 [0,0,0]',\n",
       "  'draw line_27 diameter 1 curve {-3.0 -3.0 3.0}  {-3.0 3.0 3.0} ',\n",
       "  'color $line_27 translucent 0.5 [0,0,0]',\n",
       "  'draw line_28 diameter 1 curve {-3.0 3.0 3.0}  {3.0 3.0 3.0} ',\n",
       "  'color $line_28 translucent 0.5 [0,0,0]',\n",
       "  'draw line_29 diameter 1 curve {3.0 3.0 3.0}  {3.0 -3.0 3.0} ',\n",
       "  'color $line_29 translucent 0.5 [0,0,0]',\n",
       "  'draw line_30 diameter 1 curve {3.0 -3.0 3.0}  {-3.0 -3.0 3.0} ',\n",
       "  'color $line_30 translucent 0.5 [0,0,0]',\n",
       "  'draw line_31 diameter 1 curve {-3.0 -3.0 3.0} ',\n",
       "  'color $line_31 translucent 0.5 [0,0,0]',\n",
       "  'draw line_32 diameter 1 curve {-3.0 3.0 -3.0}  {-3.0 3.0 3.0} ',\n",
       "  'color $line_32 translucent 0.5 [0,0,0]',\n",
       "  'draw line_33 diameter 1 curve {3.0 -3.0 -3.0}  {3.0 -3.0 3.0} ',\n",
       "  'color $line_33 translucent 0.5 [0,0,0]',\n",
       "  'draw line_34 diameter 1 curve {3.0 3.0 -3.0}  {3.0 3.0 3.0} ',\n",
       "  'color $line_34 translucent 0.5 [0,0,0]',\n",
       "  'select atomno = 1',\n",
       "  'color atom  [76,76,76]',\n",
       "  'label &quot;-0.28&quot;',\n",
       "  'select atomno = 2',\n",
       "  'color atom  [76,76,76]',\n",
       "  'label &quot;0.08&quot;',\n",
       "  'select atomno = 3',\n",
       "  'color atom  [76,76,76]',\n",
       "  'label &quot;0.44&quot;',\n",
       "  'select atomno = 4',\n",
       "  'color atom  [76,76,76]',\n",
       "  'label &quot;-0.28&quot;',\n",
       "  'select atomno = 5',\n",
       "  'color atom  [76,76,76]',\n",
       "  'label &quot;0.08&quot;',\n",
       "  'select atomno = 6',\n",
       "  'color atom  [76,76,76]',\n",
       "  'label &quot;0.44&quot;',\n",
       "  'select atomno = 7',\n",
       "  'color atom  [76,76,76]',\n",
       "  'label &quot;-0.28&quot;',\n",
       "  'select atomno = 8',\n",
       "  'color atom  [76,76,76]',\n",
       "  'label &quot;0.08&quot;',\n",
       "  'select atomno = 9',\n",
       "  'color atom  [76,76,76]',\n",
       "  'label &quot;0.44&quot;',\n",
       "  'isosurface fullylit; pmesh o* fullylit; set antialiasdisplay on;',\n",
       "].join('\\n');;\n",
       "    var Info = {\n",
       "      width: '100%',\n",
       "      height: '500',\n",
       "      debug: false,\n",
       "      disableInitialConsole: true,   // very slow when used with inline mesh\n",
       "      color: '#3131ff',\n",
       "      addSelectionOptions: false,\n",
       "      use: 'HTML5',\n",
       "      j2sPath: '/nbextensions/jsmol/j2s',\n",
       "      script: script,\n",
       "    };\n",
       "    var jmolApplet0 = Jmol.getApplet('jmolApplet0', Info);\n",
       "  </script>\n",
       "</body>\n",
       "</html>\n",
       "\" \n",
       "        width=\"100%\"\n",
       "        height=\"500\"\n",
       "        style=\"border: 0;\">\n",
       "</iframe>\n"
      ],
      "text/plain": [
       "Graphics3d Object"
      ]
     },
     "execution_count": 25,
     "metadata": {},
     "output_type": "execute_result"
    }
   ],
   "source": [
    "p = MixedIntegerLinearProgram(solver='GLPK')\n",
    "p.add_constraint(0 <= 2*p['x'] + p['y'] + 3*p['z'] <= 1)\n",
    "p.add_constraint(0 <= 2*p['y'] + p['z'] + 3*p['x'] <= 1)\n",
    "p.add_constraint(0 <= 2*p['z'] + p['x'] + 3*p['y'] <= 1)\n",
    "P = p.polyhedron(); P\n",
    "P.plot()"
   ]
  },
  {
   "cell_type": "code",
   "execution_count": 27,
   "metadata": {
    "collapsed": false,
    "deletable": true,
    "editable": true
   },
   "outputs": [
    {
     "name": "stdout",
     "output_type": "stream",
     "text": [
      "Minimization:\n",
      "  \n",
      "\n",
      "Constraints:\n",
      "  - x_0 + 2.0 x_1 - x_2 - x_3 <= -0.01\n",
      "  0.5 x_0 - 1.5 x_1 - x_2 - x_3 <= -0.01\n",
      "  -0.5 x_0 + x_2 <= 0.0\n",
      "  -2.0 x_1 + x_3 <= 0.0\n",
      "  - x_2 <= 0.0\n",
      "  - x_3 <= 0.0\n",
      "Variables:\n",
      "  x_0 is an integer variable (min=0.0, max=+oo)\n",
      "  x_1 is an integer variable (min=0.0, max=+oo)\n",
      "  x_2 is an integer variable (min=-oo, max=+oo)\n",
      "  x_3 is an integer variable (min=-oo, max=+oo)\n"
     ]
    }
   ],
   "source": [
    "p = MixedIntegerLinearProgram(maximization=False, solver=\"GLPK\")\n",
    "lambda_ = p.new_variable(integer=True, nonnegative=True)\n",
    "z = p.new_variable(integer=True, nonnegative=true)\n",
    "p.add_constraint(-1*lambda_[0]+2*lambda_[1]-(z[0]+z[1]) <= -0.01)\n",
    "p.add_constraint(0.5*lambda_[0]-1.5*lambda_[1]-(z[0]+z[1]) <= -0.01)\n",
    "p.add_constraint(0.5*lambda_[0]-z[0] >= 0)\n",
    "p.add_constraint(2*lambda_[1]-z[1] >= 0)\n",
    "p.add_constraint(z[0]>=0)\n",
    "p.add_constraint(z[1]>=0)\n",
    "_=[p.set_min(lambda_[i], 0) for i in range(2)]\n",
    "__=[p.set_min(z[i], None) for i in range(2)]\n",
    "p.show()"
   ]
  },
  {
   "cell_type": "code",
   "execution_count": 28,
   "metadata": {
    "collapsed": false,
    "deletable": true,
    "editable": true
   },
   "outputs": [
    {
     "data": {
      "text/plain": [
       "0.0"
      ]
     },
     "execution_count": 28,
     "metadata": {},
     "output_type": "execute_result"
    }
   ],
   "source": [
    "p.solve()"
   ]
  },
  {
   "cell_type": "code",
   "execution_count": 29,
   "metadata": {
    "collapsed": false,
    "deletable": true,
    "editable": true
   },
   "outputs": [
    {
     "name": "stdout",
     "output_type": "stream",
     "text": [
      "lambda_0 = 2\n",
      "lambda_1 = 1\n"
     ]
    }
   ],
   "source": [
    "for i,v in p.get_values(lambda_).iteritems():\n",
    "    print'lambda_%s = %s' % (i, int(round(v)))"
   ]
  },
  {
   "cell_type": "code",
   "execution_count": null,
   "metadata": {
    "collapsed": true
   },
   "outputs": [],
   "source": []
  }
 ],
 "metadata": {
  "kernelspec": {
   "display_name": "SageMath 7.6",
   "language": "",
   "name": "sagemath"
  },
  "language_info": {
   "codemirror_mode": {
    "name": "ipython",
    "version": 2
   },
   "file_extension": ".py",
   "mimetype": "text/x-python",
   "name": "python",
   "nbconvert_exporter": "python",
   "pygments_lexer": "ipython2",
   "version": "2.7.13"
  }
 },
 "nbformat": 4,
 "nbformat_minor": 2
}
